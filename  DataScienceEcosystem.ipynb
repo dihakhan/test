{
 "cells": [
  {
   "cell_type": "markdown",
   "id": "306d8e0e-5ebb-4628-bbdb-7228c67e0937",
   "metadata": {},
   "source": [
    "# Data Science Tools and Ecosystem"
   ]
  },
  {
   "cell_type": "markdown",
   "id": "32ffefd0-958c-4bc5-85b5-1e8ed03b2a7b",
   "metadata": {},
   "source": [
    "In this notebook, Data Science Tools and Ecosystem are summarized."
   ]
  },
  {
   "cell_type": "markdown",
   "id": "b7329641-9cf5-4795-ae76-27d479b6e9ad",
   "metadata": {},
   "source": [
    "**Some of the popular languages that Data Scientists use are:**\n",
    "1. Python\n",
    "2. R\n",
    "3. Sql\n",
    "4. Julia\n",
    "5. JavaScript"
   ]
  },
  {
   "cell_type": "markdown",
   "id": "c9f158ae-fcd1-4b53-9498-2046b52d8173",
   "metadata": {},
   "source": [
    "**Some of the commonly used libraries used by Data Scientists include:**\n",
    "1. Pandas\n",
    "2. TensorFlow\n",
    "3. PyTorch\n",
    "4. NumPy\n",
    "5. SciPy\n"
   ]
  },
  {
   "cell_type": "markdown",
   "id": "7b4834c3-c638-4030-bf0e-fbcab8755128",
   "metadata": {},
   "source": [
    "**Data Science Tools**| Data Science Tools |-| Jupyter Notebook | RStudio | Tableau |\n"
   ]
  },
  {
   "cell_type": "markdown",
   "id": "4a3e2063-9015-4c9c-bfd4-ce7cb61cc9d6",
   "metadata": {},
   "source": [
    "### Below are a few examples of evaluating arithmetic expressions in Python."
   ]
  },
  {
   "cell_type": "code",
   "execution_count": 1,
   "id": "3defabe7-ea42-4727-8c6b-74195a3027b6",
   "metadata": {
    "tags": []
   },
   "outputs": [
    {
     "name": "stdout",
     "output_type": "stream",
     "text": [
      "17\n"
     ]
    }
   ],
   "source": [
    "# This a simple arithmetic expression to mutiply then add integers\n",
    "cal=(3*4)+5\n",
    "print(cal)"
   ]
  },
  {
   "cell_type": "code",
   "execution_count": 2,
   "id": "7a3e4849-bede-40d8-9bc3-aff6f3264d55",
   "metadata": {
    "tags": []
   },
   "outputs": [
    {
     "name": "stdout",
     "output_type": "stream",
     "text": [
      "3.3333333333333335\n"
     ]
    }
   ],
   "source": [
    "# This will convert 200 minutes to hours by diving by 60\n",
    "hrs=(200/60)\n",
    "print(hrs)"
   ]
  },
  {
   "cell_type": "markdown",
   "id": "722e9bb4-c78f-43ae-a6d7-d934ff965b41",
   "metadata": {},
   "source": [
    "**Objectives:** \n",
    "List popular languages for Data Science.\n",
    "- Python \n",
    "- Swift \n",
    "- R\n",
    "- Java\n",
    "- Scala"
   ]
  },
  {
   "cell_type": "markdown",
   "id": "6da70593-ddaf-4e7a-af5b-747228afbd81",
   "metadata": {},
   "source": [
    "## Author\n",
    "name : Madiha Shaheen"
   ]
  },
  {
   "cell_type": "code",
   "execution_count": null,
   "id": "6afc0f83-bca5-44d4-9047-6f46ae7bd43a",
   "metadata": {},
   "outputs": [],
   "source": []
  }
 ],
 "metadata": {
  "kernelspec": {
   "display_name": "Python",
   "language": "python",
   "name": "conda-env-python-py"
  },
  "language_info": {
   "codemirror_mode": {
    "name": "ipython",
    "version": 3
   },
   "file_extension": ".py",
   "mimetype": "text/x-python",
   "name": "python",
   "nbconvert_exporter": "python",
   "pygments_lexer": "ipython3",
   "version": "3.7.12"
  }
 },
 "nbformat": 4,
 "nbformat_minor": 5
}
